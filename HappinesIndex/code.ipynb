{
 "cells": [
  {
   "cell_type": "markdown",
   "metadata": {},
   "source": [
    "# Imports"
   ]
  },
  {
   "cell_type": "code",
   "execution_count": 10,
   "metadata": {},
   "outputs": [
    {
     "name": "stdout",
     "output_type": "stream",
     "text": [
      "Collecting seaborn\n",
      "  Using cached seaborn-0.13.2-py3-none-any.whl.metadata (5.4 kB)\n",
      "Requirement already satisfied: numpy!=1.24.0,>=1.20 in ./.venv/lib/python3.12/site-packages (from seaborn) (2.0.1)\n",
      "Requirement already satisfied: pandas>=1.2 in ./.venv/lib/python3.12/site-packages (from seaborn) (2.2.2)\n",
      "Requirement already satisfied: matplotlib!=3.6.1,>=3.4 in ./.venv/lib/python3.12/site-packages (from seaborn) (3.9.1)\n",
      "Requirement already satisfied: contourpy>=1.0.1 in ./.venv/lib/python3.12/site-packages (from matplotlib!=3.6.1,>=3.4->seaborn) (1.2.1)\n",
      "Requirement already satisfied: cycler>=0.10 in ./.venv/lib/python3.12/site-packages (from matplotlib!=3.6.1,>=3.4->seaborn) (0.12.1)\n",
      "Requirement already satisfied: fonttools>=4.22.0 in ./.venv/lib/python3.12/site-packages (from matplotlib!=3.6.1,>=3.4->seaborn) (4.53.1)\n",
      "Requirement already satisfied: kiwisolver>=1.3.1 in ./.venv/lib/python3.12/site-packages (from matplotlib!=3.6.1,>=3.4->seaborn) (1.4.5)\n",
      "Requirement already satisfied: packaging>=20.0 in ./.venv/lib/python3.12/site-packages (from matplotlib!=3.6.1,>=3.4->seaborn) (24.1)\n",
      "Requirement already satisfied: pillow>=8 in ./.venv/lib/python3.12/site-packages (from matplotlib!=3.6.1,>=3.4->seaborn) (10.4.0)\n",
      "Requirement already satisfied: pyparsing>=2.3.1 in ./.venv/lib/python3.12/site-packages (from matplotlib!=3.6.1,>=3.4->seaborn) (3.1.2)\n",
      "Requirement already satisfied: python-dateutil>=2.7 in ./.venv/lib/python3.12/site-packages (from matplotlib!=3.6.1,>=3.4->seaborn) (2.9.0.post0)\n",
      "Requirement already satisfied: pytz>=2020.1 in ./.venv/lib/python3.12/site-packages (from pandas>=1.2->seaborn) (2024.1)\n",
      "Requirement already satisfied: tzdata>=2022.7 in ./.venv/lib/python3.12/site-packages (from pandas>=1.2->seaborn) (2024.1)\n",
      "Requirement already satisfied: six>=1.5 in ./.venv/lib/python3.12/site-packages (from python-dateutil>=2.7->matplotlib!=3.6.1,>=3.4->seaborn) (1.16.0)\n",
      "Using cached seaborn-0.13.2-py3-none-any.whl (294 kB)\n",
      "Installing collected packages: seaborn\n",
      "Successfully installed seaborn-0.13.2\n"
     ]
    }
   ],
   "source": [
    "!pip install seaborn"
   ]
  },
  {
   "cell_type": "code",
   "execution_count": 1,
   "metadata": {},
   "outputs": [],
   "source": [
    "import pandas as pd\n",
    "import numpy as np\n",
    "from scipy import stats\n",
    "from sklearn.preprocessing import RobustScaler\n",
    "from sklearn.model_selection import train_test_split\n",
    "import matplotlib.pyplot as plt\n",
    "import seaborn as sns\n",
    "from sklearn.linear_model import LinearRegression\n",
    "from sklearn.svm import SVR\n",
    "from sklearn.ensemble import RandomForestRegressor\n",
    "from statsmodels.tsa.api import VAR\n",
    "from statsmodels.tsa.stattools import adfuller\n",
    "from scipy.stats import boxcox\n",
    "from sklearn.preprocessing import LabelEncoder\n",
    "from sklearn.model_selection import TimeSeriesSplit\n",
    "from sklearn.preprocessing import LabelEncoder, StandardScaler\n",
    "from sklearn.metrics import mean_squared_error, mean_absolute_error, r2_score\n",
    "from statsmodels.tsa.arima.model import ARIMA\n",
    "import pickle"
   ]
  },
  {
   "cell_type": "markdown",
   "metadata": {},
   "source": [
    "# Data Importing"
   ]
  },
  {
   "cell_type": "code",
   "execution_count": 2,
   "metadata": {},
   "outputs": [
    {
     "name": "stdout",
     "output_type": "stream",
     "text": [
      "       Country          Region  Happiness Rank  Happiness Score  \\\n",
      "0  Switzerland  Western Europe               1            7.587   \n",
      "1      Iceland  Western Europe               2            7.561   \n",
      "2      Denmark  Western Europe               3            7.527   \n",
      "3       Norway  Western Europe               4            7.522   \n",
      "4       Canada   North America               5            7.427   \n",
      "\n",
      "   Standard Error  Economy (GDP per Capita)   Family  \\\n",
      "0         0.03411                   1.39651  1.34951   \n",
      "1         0.04884                   1.30232  1.40223   \n",
      "2         0.03328                   1.32548  1.36058   \n",
      "3         0.03880                   1.45900  1.33095   \n",
      "4         0.03553                   1.32629  1.32261   \n",
      "\n",
      "   Health (Life Expectancy)  Freedom  Trust (Government Corruption)  \\\n",
      "0                   0.94143  0.66557                        0.41978   \n",
      "1                   0.94784  0.62877                        0.14145   \n",
      "2                   0.87464  0.64938                        0.48357   \n",
      "3                   0.88521  0.66973                        0.36503   \n",
      "4                   0.90563  0.63297                        0.32957   \n",
      "\n",
      "   Generosity  Dystopia Residual  \n",
      "0     0.29678            2.51738  \n",
      "1     0.43630            2.70201  \n",
      "2     0.34139            2.49204  \n",
      "3     0.34699            2.46531  \n",
      "4     0.45811            2.45176  \n",
      "       Country          Region  Happiness Rank  Happiness Score  \\\n",
      "0      Denmark  Western Europe               1            7.526   \n",
      "1  Switzerland  Western Europe               2            7.509   \n",
      "2      Iceland  Western Europe               3            7.501   \n",
      "3       Norway  Western Europe               4            7.498   \n",
      "4      Finland  Western Europe               5            7.413   \n",
      "\n",
      "   Lower Confidence Interval  Upper Confidence Interval  \\\n",
      "0                      7.460                      7.592   \n",
      "1                      7.428                      7.590   \n",
      "2                      7.333                      7.669   \n",
      "3                      7.421                      7.575   \n",
      "4                      7.351                      7.475   \n",
      "\n",
      "   Economy (GDP per Capita)   Family  Health (Life Expectancy)  Freedom  \\\n",
      "0                   1.44178  1.16374                   0.79504  0.57941   \n",
      "1                   1.52733  1.14524                   0.86303  0.58557   \n",
      "2                   1.42666  1.18326                   0.86733  0.56624   \n",
      "3                   1.57744  1.12690                   0.79579  0.59609   \n",
      "4                   1.40598  1.13464                   0.81091  0.57104   \n",
      "\n",
      "   Trust (Government Corruption)  Generosity  Dystopia Residual  \n",
      "0                        0.44453     0.36171            2.73939  \n",
      "1                        0.41203     0.28083            2.69463  \n",
      "2                        0.14975     0.47678            2.83137  \n",
      "3                        0.35776     0.37895            2.66465  \n",
      "4                        0.41004     0.25492            2.82596  \n",
      "       Country  Happiness.Rank  Happiness.Score  Whisker.high  Whisker.low  \\\n",
      "0       Norway               1            7.537      7.594445     7.479556   \n",
      "1      Denmark               2            7.522      7.581728     7.462272   \n",
      "2      Iceland               3            7.504      7.622030     7.385970   \n",
      "3  Switzerland               4            7.494      7.561772     7.426227   \n",
      "4      Finland               5            7.469      7.527542     7.410458   \n",
      "\n",
      "   Economy..GDP.per.Capita.    Family  Health..Life.Expectancy.   Freedom  \\\n",
      "0                  1.616463  1.533524                  0.796667  0.635423   \n",
      "1                  1.482383  1.551122                  0.792566  0.626007   \n",
      "2                  1.480633  1.610574                  0.833552  0.627163   \n",
      "3                  1.564980  1.516912                  0.858131  0.620071   \n",
      "4                  1.443572  1.540247                  0.809158  0.617951   \n",
      "\n",
      "   Generosity  Trust..Government.Corruption.  Dystopia.Residual  \n",
      "0    0.362012                       0.315964           2.277027  \n",
      "1    0.355280                       0.400770           2.313707  \n",
      "2    0.475540                       0.153527           2.322715  \n",
      "3    0.290549                       0.367007           2.276716  \n",
      "4    0.245483                       0.382612           2.430182  \n",
      "   Overall rank Country or region  Score  GDP per capita  Social support  \\\n",
      "0             1           Finland  7.632           1.305           1.592   \n",
      "1             2            Norway  7.594           1.456           1.582   \n",
      "2             3           Denmark  7.555           1.351           1.590   \n",
      "3             4           Iceland  7.495           1.343           1.644   \n",
      "4             5       Switzerland  7.487           1.420           1.549   \n",
      "\n",
      "   Healthy life expectancy  Freedom to make life choices  Generosity  \\\n",
      "0                    0.874                         0.681       0.202   \n",
      "1                    0.861                         0.686       0.286   \n",
      "2                    0.868                         0.683       0.284   \n",
      "3                    0.914                         0.677       0.353   \n",
      "4                    0.927                         0.660       0.256   \n",
      "\n",
      "   Perceptions of corruption  \n",
      "0                      0.393  \n",
      "1                      0.340  \n",
      "2                      0.408  \n",
      "3                      0.138  \n",
      "4                      0.357  \n",
      "   Overall rank Country or region  Score  GDP per capita  Social support  \\\n",
      "0             1           Finland  7.769           1.340           1.587   \n",
      "1             2           Denmark  7.600           1.383           1.573   \n",
      "2             3            Norway  7.554           1.488           1.582   \n",
      "3             4           Iceland  7.494           1.380           1.624   \n",
      "4             5       Netherlands  7.488           1.396           1.522   \n",
      "\n",
      "   Healthy life expectancy  Freedom to make life choices  Generosity  \\\n",
      "0                    0.986                         0.596       0.153   \n",
      "1                    0.996                         0.592       0.252   \n",
      "2                    1.028                         0.603       0.271   \n",
      "3                    1.026                         0.591       0.354   \n",
      "4                    0.999                         0.557       0.322   \n",
      "\n",
      "   Perceptions of corruption  \n",
      "0                      0.393  \n",
      "1                      0.410  \n",
      "2                      0.341  \n",
      "3                      0.118  \n",
      "4                      0.298  \n"
     ]
    }
   ],
   "source": [
    "# Load the datasets\n",
    "data_2015 = pd.read_csv('data/2015.csv')\n",
    "data_2016 = pd.read_csv('data/2016.csv')\n",
    "data_2017 = pd.read_csv('data/2017.csv')\n",
    "data_2018 = pd.read_csv('data/2018.csv')\n",
    "data_2019 = pd.read_csv('data/2019.csv')\n",
    "\n",
    "# Display the first few rows of each dataframe to understand their structure\n",
    "print(data_2015.head())\n",
    "print(data_2016.head())\n",
    "print(data_2017.head())\n",
    "print(data_2018.head())\n",
    "print(data_2019.head())"
   ]
  },
  {
   "cell_type": "markdown",
   "metadata": {},
   "source": [
    "# Data Preprocessing"
   ]
  },
  {
   "cell_type": "code",
   "execution_count": 3,
   "metadata": {},
   "outputs": [],
   "source": [
    "# Standardizing column names\n",
    "columns_2015 = {\n",
    "    'Country': 'Country',\n",
    "    'Region': 'Region',\n",
    "    'Happiness Rank': 'Happiness Rank',\n",
    "    'Happiness Score': 'Happiness Score',\n",
    "    'Standard Error': 'Standard Error',\n",
    "    'Economy (GDP per Capita)': 'GDP per Capita',\n",
    "    'Family': 'Social Support',\n",
    "    'Health (Life Expectancy)': 'Healthy life expectancy',\n",
    "    'Freedom': 'Freedom to make life choices',\n",
    "    'Trust (Government Corruption)': 'Perceptions of corruption',\n",
    "    'Generosity': 'Generosity',\n",
    "    'Dystopia Residual': 'Dystopia Residual'\n",
    "}\n",
    "\n",
    "columns_2016 = {\n",
    "    'Country': 'Country',\n",
    "    'Region': 'Region',\n",
    "    'Happiness Rank': 'Happiness Rank',\n",
    "    'Happiness Score': 'Happiness Score',\n",
    "    'Standard Error': 'Standard Error',\n",
    "    'Economy (GDP per Capita)': 'GDP per Capita',\n",
    "    'Family': 'Social Support',\n",
    "    'Health (Life Expectancy)': 'Healthy life expectancy',\n",
    "    'Freedom': 'Freedom to make life choices',\n",
    "    'Trust (Government Corruption)': 'Perceptions of corruption',\n",
    "    'Generosity': 'Generosity',\n",
    "    'Dystopia Residual': 'Dystopia Residual'\n",
    "}\n",
    "\n",
    "columns_2017 = {\n",
    "    'Country': 'Country',\n",
    "    'Region': 'Region',\n",
    "    'Happiness.Rank': 'Happiness Rank',\n",
    "    'Happiness.Score': 'Happiness Score',\n",
    "    'Standard Error': 'Standard Error',\n",
    "    'Economy..GDP.per.Capita.': 'GDP per Capita',\n",
    "    'Family': 'Social Support',\n",
    "    'Health..Life.Expectancy.': 'Healthy life expectancy',\n",
    "    'Freedom': 'Freedom to make life choices',\n",
    "    'Trust..Government.Corruption.': 'Perceptions of corruption',\n",
    "    'Generosity': 'Generosity',\n",
    "    'Dystopia Residual': 'Dystopia Residual'\n",
    "}\n",
    "\n",
    "columns_2018 = {\n",
    "    'Country or region': 'Country',\n",
    "    'Region': 'Region',\n",
    "    'Overall rank': 'Happiness Rank',\n",
    "    'Score': 'Happiness Score',\n",
    "    'Standard Error': 'Standard Error',\n",
    "    'GDP per capita': 'GDP per Capita',\n",
    "    'Social support': 'Social Support',\n",
    "    'Health (Life Expectancy)': 'Healthy life expectancy',\n",
    "    'Freedom': 'Freedom to make life choices',\n",
    "    'Trust (Government Corruption)': 'Perceptions of corruption',\n",
    "    'Generosity': 'Generosity',\n",
    "    'Dystopia Residual': 'Dystopia Residual'\n",
    "}\n",
    "\n",
    "columns_2019 = {\n",
    "    'Country or region': 'Country',\n",
    "    'Region': 'Region',\n",
    "    'Overall rank': 'Happiness Rank',\n",
    "    'Score': 'Happiness Score',\n",
    "    'Standard Error': 'Standard Error',\n",
    "    'GDP per capita': 'GDP per Capita',\n",
    "    'Social support': 'Social Support',\n",
    "    'Health (Life Expectancy)': 'Healthy life expectancy',\n",
    "    'Freedom': 'Freedom to make life choices',\n",
    "    'Trust (Government Corruption)': 'Perceptions of corruption',\n",
    "    'Generosity': 'Generosity',\n",
    "    'Dystopia Residual': 'Dystopia Residual'\n",
    "}\n",
    "\n",
    "# Renaming columns in each dataset\n",
    "data_2015.rename(columns=columns_2015, inplace=True)\n",
    "data_2016.rename(columns=columns_2016, inplace=True)\n",
    "data_2017.rename(columns=columns_2017, inplace=True)\n",
    "data_2018.rename(columns=columns_2018, inplace=True)\n",
    "data_2019.rename(columns=columns_2019, inplace=True)\n",
    "\n",
    "# Adding Year column to each dataframe\n",
    "data_2015['Year'] = 2015\n",
    "data_2016['Year'] = 2016\n",
    "data_2017['Year'] = 2017\n",
    "data_2018['Year'] = 2018\n",
    "data_2019['Year'] = 2019\n",
    "\n",
    "# Selecting relevant columns\n",
    "columns_to_keep = ['Country', 'Year', 'Happiness Score', 'GDP per Capita', 'Social Support', 'Healthy life expectancy', 'Freedom to make life choices', 'Generosity', 'Perceptions of corruption']\n",
    "data_2015 = data_2015[columns_to_keep]\n",
    "data_2016 = data_2016[columns_to_keep]\n",
    "data_2017 = data_2017[columns_to_keep]\n",
    "data_2018 = data_2018[columns_to_keep]\n",
    "data_2019 = data_2019[columns_to_keep]\n",
    "\n",
    "# Combining all dataframes\n",
    "combined_data = pd.concat([data_2015, data_2016, data_2017, data_2018, data_2019], ignore_index=True)\n",
    "combined_data.head()\n",
    "\n",
    "#save the dataframe\n",
    "combined_data.to_csv(\"Combined_data.csv\")"
   ]
  },
  {
   "cell_type": "code",
   "execution_count": 4,
   "metadata": {},
   "outputs": [
    {
     "name": "stdout",
     "output_type": "stream",
     "text": [
      "Country                         0\n",
      "Year                            0\n",
      "Happiness Score                 0\n",
      "GDP per Capita                  0\n",
      "Social Support                  0\n",
      "Healthy life expectancy         0\n",
      "Freedom to make life choices    0\n",
      "Generosity                      0\n",
      "Perceptions of corruption       1\n",
      "dtype: int64\n"
     ]
    }
   ],
   "source": [
    "# Check for missing values\n",
    "print(combined_data.isnull().sum())"
   ]
  },
  {
   "cell_type": "code",
   "execution_count": 5,
   "metadata": {},
   "outputs": [
    {
     "data": {
      "image/png": "[encoded data removed]",
      "text/plain": [
       "<Figure size 640x480 with 1 Axes>"
      ]
     },
     "metadata": {},
     "output_type": "display_data"
    },
    {
     "data": {
      "image/png": "[encoded data removed]",
      "text/plain": [
       "<Figure size 640x480 with 1 Axes>"
      ]
     },
     "metadata": {},
     "output_type": "display_data"
    },
    {
     "data": {
      "image/png": "[encoded data removed]",
      "text/plain": [
       "<Figure size 640x480 with 1 Axes>"
      ]
     },
     "metadata": {},
     "output_type": "display_data"
    },
    {
     "data": {
      "image/png": "[encoded data removed]",
      "text/plain": [
       "<Figure size 640x480 with 1 Axes>"
      ]
     },
     "metadata": {},
     "output_type": "display_data"
    },
    {
     "data": {
      "image/png": "[encoded data removed]",
      "text/plain": [
       "<Figure size 640x480 with 1 Axes>"
      ]
     },
     "metadata": {},
     "output_type": "display_data"
    },
    {
     "data": {
      "image/png": "[encoded data removed]",
      "text/plain": [
       "<Figure size 640x480 with 1 Axes>"
      ]
     },
     "metadata": {},
     "output_type": "display_data"
    },
    {
     "data": {
      "image/png": "[encoded data removed]",
      "text/plain": [
       "<Figure size 640x480 with 1 Axes>"
      ]
     },
     "metadata": {},
     "output_type": "display_data"
    },
    {
     "data": {
      "image/png": "[encoded data removed]",
      "text/plain": [
       "<Figure size 640x480 with 1 Axes>"
      ]
     },
     "metadata": {},
     "output_type": "display_data"
    }
   ],
   "source": [
    "# Plot boxplots for numerical columns\n",
    "for col in combined_data.select_dtypes(include=['float64', 'int64']).columns:\n",
    "    plt.figure()\n",
    "    sns.boxplot(x=combined_data[col])\n",
    "    plt.title(f\"Boxplot of {col}\")\n",
    "    plt.show()"
   ]
  },
  {
   "cell_type": "code",
   "execution_count": 6,
   "metadata": {},
   "outputs": [
    {
     "data": {
      "image/png": "[encoded data removed]",
      "text/plain": [
       "<Figure size 1500x1000 with 9 Axes>"
      ]
     },
     "metadata": {},
     "output_type": "display_data"
    }
   ],
   "source": [
    "# Plot histograms for numerical columns\n",
    "combined_data.hist(figsize=(15, 10))\n",
    "plt.show()"
   ]
  },
  {
   "cell_type": "markdown",
   "metadata": {},
   "source": [
    "##### Histograms shows that the data is skewed and Boxplot shows that median line is not centred and outliers are present. Hence Median Imputation can be used here to handle the missing values "
   ]
  },
  {
   "cell_type": "code",
   "execution_count": 7,
   "metadata": {},
   "outputs": [
    {
     "name": "stdout",
     "output_type": "stream",
     "text": [
      "Index(['Year', 'Happiness Score', 'GDP per Capita', 'Social Support',\n",
      "       'Healthy life expectancy', 'Freedom to make life choices', 'Generosity',\n",
      "       'Perceptions of corruption'],\n",
      "      dtype='object')\n",
      "Index(['Country'], dtype='object')\n"
     ]
    }
   ],
   "source": [
    "# Identify numerical and categorical columns\n",
    "numerical_cols = combined_data.select_dtypes(include=['float64', 'int64']).columns\n",
    "categorical_cols = combined_data.select_dtypes(include=['object']).columns\n",
    "#print the columns\n",
    "print(numerical_cols)\n",
    "print(categorical_cols)\n"
   ]
  },
  {
   "cell_type": "code",
   "execution_count": null,
   "metadata": {},
   "outputs": [],
   "source": []
  },
  {
   "cell_type": "code",
   "execution_count": 8,
   "metadata": {},
   "outputs": [
    {
     "data": {
      "text/plain": [
       "Year                            0\n",
       "Happiness Score                 0\n",
       "GDP per Capita                  0\n",
       "Social Support                  0\n",
       "Healthy life expectancy         0\n",
       "Freedom to make life choices    0\n",
       "Generosity                      0\n",
       "Perceptions of corruption       0\n",
       "dtype: int64"
      ]
     },
     "execution_count": 8,
     "metadata": {},
     "output_type": "execute_result"
    }
   ],
   "source": [
    "# Impute numerical columns with median\n",
    "combined_data[numerical_cols] = combined_data[numerical_cols].fillna(combined_data[numerical_cols].median())\n",
    "combined_data[numerical_cols].isna().sum()"
   ]
  },
  {
   "cell_type": "markdown",
   "metadata": {},
   "source": [
    "##### Handling Outliers"
   ]
  },
  {
   "cell_type": "markdown",
   "metadata": {},
   "source": [
    "##### Interquartile Range (IQR) Method: This is suitable for skewed data. It identifies outliers by calculating the IQR"
   ]
  },
  {
   "cell_type": "code",
   "execution_count": 9,
   "metadata": {},
   "outputs": [
    {
     "name": "stdout",
     "output_type": "stream",
     "text": [
      "Country                         92\n",
      "Year                            92\n",
      "Happiness Score                 92\n",
      "GDP per Capita                  92\n",
      "Social Support                  92\n",
      "Healthy life expectancy         92\n",
      "Freedom to make life choices    92\n",
      "Generosity                      92\n",
      "Perceptions of corruption       92\n",
      "dtype: int64\n"
     ]
    }
   ],
   "source": [
    "# Check for outliers using IQR method\n",
    "\n",
    "# Select numeric columns only for IQR calculation\n",
    "numeric_cols = combined_data.select_dtypes(include=['float64', 'int64']).columns\n",
    "\n",
    "# Calculate IQR for each numeric feature\n",
    "Q1 = combined_data[numeric_cols].quantile(0.25)\n",
    "Q3 = combined_data[numeric_cols].quantile(0.75)\n",
    "IQR = Q3 - Q1\n",
    "\n",
    "# Identify outliers\n",
    "outliers = ((combined_data[numeric_cols] < (Q1 - 1.5 * IQR)) | (combined_data[numeric_cols] > (Q3 + 1.5 * IQR))).any(axis=1)\n",
    "\n",
    "# Number of outliers in each column\n",
    "print(combined_data[outliers].count())"
   ]
  },
  {
   "cell_type": "markdown",
   "metadata": {},
   "source": [
    "##### Applying Box-Cox Transformation\n",
    "Box-Cox Transformation is Used as Data can be positive and you need a more flexible transformation."
   ]
  },
  {
   "cell_type": "code",
   "execution_count": 10,
   "metadata": {},
   "outputs": [],
   "source": [
    "# Select numeric columns only\n",
    "numeric_cols = combined_data.select_dtypes(include=['float64', 'int64']).columns\n",
    "\n",
    "# Exclude the 'Year' and Happines Score  column from Box-Cox transformation\n",
    "\n",
    "# numeric_cols_to_transform = [col for col in numeric_cols if col != 'Year']\n",
    "# #remove the happiness score column from the list along with the year column it should be done in one line\n",
    "numeric_cols_to_transform = [col for col in numeric_cols if col not in ['Year', 'Happiness Score']]\n",
    "\n",
    "\n",
    "# Ensure all values are positive by adding a constant (if necessary)\n",
    "combined_data[numeric_cols_to_transform] = combined_data[numeric_cols_to_transform].apply(lambda x: x + 1 - x.min() if (x <= 0).any() else x)"
   ]
  },
  {
   "cell_type": "code",
   "execution_count": 11,
   "metadata": {},
   "outputs": [
    {
     "name": "stdout",
     "output_type": "stream",
     "text": [
      "       Country  Year  Happiness Score  GDP per Capita  Social Support  \\\n",
      "0  Switzerland  2015            7.587        1.842732        3.034724   \n",
      "1      Iceland  2015            7.561        1.693694        3.232748   \n",
      "2      Denmark  2015            7.527        1.730042        3.075748   \n",
      "3       Norway  2015            7.522        1.943370        2.966604   \n",
      "4       Canada  2015            7.427        1.731317        2.936263   \n",
      "\n",
      "   Healthy life expectancy  Freedom to make life choices  Generosity  \\\n",
      "0                 1.577943                      1.185221    0.195649   \n",
      "1                 1.593366                      1.088171    0.245754   \n",
      "2                 1.421219                      1.142005    0.213552   \n",
      "3                 1.445540                      1.196458    0.215663   \n",
      "4                 1.493037                      1.099035    0.252198   \n",
      "\n",
      "   Perceptions of corruption  \n",
      "0                   0.133544  \n",
      "1                   0.087264  \n",
      "2                   0.137052  \n",
      "3                   0.129381  \n",
      "4                   0.125904  \n"
     ]
    }
   ],
   "source": [
    "# Apply Box-Cox transformation to each numeric feature excluding 'Year' and 'Happiness Score'\n",
    "for col in numeric_cols_to_transform:\n",
    "    combined_data[col], _ = boxcox(combined_data[col])\n",
    "\n",
    "# Verify the transformation by checking the first few rows\n",
    "print(combined_data.head())"
   ]
  },
  {
   "cell_type": "markdown",
   "metadata": {},
   "source": [
    "Box-Cox Transformation is Used as Data can be positive and we need a more flexible transformation."
   ]
  },
  {
   "cell_type": "markdown",
   "metadata": {},
   "source": [
    "# Data Visualization"
   ]
  },
  {
   "cell_type": "code",
   "execution_count": 12,
   "metadata": {},
   "outputs": [],
   "source": [
    "# Select only numeric columns\n",
    "numeric_cols = combined_data.select_dtypes(include=[np.number]).columns\n",
    "\n",
    "# Group by 'Year' and calculate the mean for each year\n",
    "yearly_data = combined_data.groupby('Year')[numeric_cols].mean()\n"
   ]
  },
  {
   "cell_type": "code",
   "execution_count": 13,
   "metadata": {},
   "outputs": [
    {
     "data": {
      "image/png": "[encoded data removed]",
      "text/plain": [
       "<Figure size 1000x500 with 1 Axes>"
      ]
     },
     "metadata": {},
     "output_type": "display_data"
    }
   ],
   "source": [
    "plt.figure(figsize=(10, 5))\n",
    "plt.plot(yearly_data['Year'], yearly_data['Happiness Score'], marker='o')\n",
    "plt.title('World Happiness Score (2015-2019)')\n",
    "plt.xlabel('Year')\n",
    "plt.ylabel('Happiness Score')\n",
    "plt.grid(True)\n",
    "plt.show()"
   ]
  },
  {
   "cell_type": "markdown",
   "metadata": {},
   "source": [
    "# Feature Engineering"
   ]
  },
  {
   "cell_type": "markdown",
   "metadata": {},
   "source": [
    " Interaction features are used to capture the combined effect of two or more features on the target variable that may not be captured by the individual features alone. By including interaction features, you allow the model to learn relationships between features that are not purely additive. This can improve the model’s ability to explain variance in the target variable"
   ]
  },
  {
   "cell_type": "markdown",
   "metadata": {},
   "source": [
    "In the dataset, the interaction features are:\n",
    "\n",
    "-GDP_Social_Support: Created by multiplying GDP per Capita and Social Support.\n",
    "\n",
    "-Health_Freedom: Created by multiplying Healthy life expectancy and Freedom to make life choices."
   ]
  },
  {
   "cell_type": "markdown",
   "metadata": {},
   "source": [
    "These interaction features can be useful in the following ways:\n",
    "\n",
    "-GDP_Social_Support: This feature could capture the combined impact of economic strength and social support on happiness. For example, a country with both high GDP and strong social support systems might have a different impact on happiness than what we would predict by looking at GDP and social support individually.\n",
    "\n",
    "-Health_Freedom: This feature could capture the combined effect of health and personal freedom on happiness. People in countries with higher life expectancy and greater freedom to make life choices might experience different levels of happiness than what we would predict by looking at these factors separately."
   ]
  },
  {
   "cell_type": "code",
   "execution_count": 14,
   "metadata": {},
   "outputs": [],
   "source": [
    "# Create interaction features\n",
    "combined_data['GDP_Social_Support'] = combined_data['GDP per Capita'] * combined_data['Social Support']\n",
    "combined_data['Health_Freedom'] = combined_data['Healthy life expectancy'] * combined_data['Freedom to make life choices']\n",
    "\n",
    "# Apply log transformation to features with wide range of values\n",
    "combined_data['Log_GDP_per_Capita'] = np.log(combined_data['GDP per Capita'] + 1)\n",
    "combined_data['Log_Healthy_life_expectancy'] = np.log(combined_data['Healthy life expectancy'] + 1)\n",
    "\n",
    "# Encode the 'Country' column\n",
    "label_encoder = LabelEncoder()\n",
    "combined_data['country_encoded'] = label_encoder.fit_transform(combined_data['Country'])\n",
    "#i want to reuse the label encoder so i will save it as a pickle file\n",
    "with open('label_encoder.pkl', 'wb') as file:\n",
    "    pickle.dump(label_encoder, file)\n",
    "\n",
    "\n",
    "# Ensure the data is sorted by year\n",
    "combined_data = combined_data.sort_values(by='Year')\n",
    "\n",
    "# Save the processed data for modeling\n",
    "processed_data = combined_data.copy()"
   ]
  },
  {
   "cell_type": "markdown",
   "metadata": {},
   "source": [
    "# Train Test Split"
   ]
  },
  {
   "cell_type": "markdown",
   "metadata": {},
   "source": [
    "Using time series cross-validation to ensure each fold uses past data for training and future data for testing. This method is particularly useful when the dataset is small."
   ]
  },
  {
   "cell_type": "markdown",
   "metadata": {},
   "source": [
    "The number of splits in TimeSeriesSplit is a parameter that can be adjusted based on the size of your dataset and the balance we want to achieve between the training and testing sets. There is no one-size-fits-all rule for the number of splits.\n",
    "\n",
    "\n",
    "•\tWith only 5 years of data, too many splits will lead to very small training and testing sets, which might not be representative.\n",
    "\n",
    "\n",
    "•\tToo few splits might not provide a robust evaluation of the model’s performance."
   ]
  },
  {
   "cell_type": "code",
   "execution_count": 15,
   "metadata": {},
   "outputs": [
    {
     "name": "stdout",
     "output_type": "stream",
     "text": [
      "ADF Statistic: -0.937653\n",
      "p-value: 0.775320\n",
      "Critical Values:\n",
      "   1%, -7.355440625\n",
      "Critical Values:\n",
      "   5%, -4.474365000000001\n",
      "Critical Values:\n",
      "   10%, -3.1269325\n"
     ]
    }
   ],
   "source": [
    "# Check stationarity of the target variable (Happiness Score)\n",
    "def check_stationarity(series):\n",
    "    result = adfuller(series)\n",
    "    print('ADF Statistic: %f' % result[0])\n",
    "    print('p-value: %f' % result[1])\n",
    "    for key, value in result[4].items():\n",
    "        print('Critical Values:')\n",
    "        print(f'   {key}, {value}')\n",
    "    return result[1] <= 0.05  # True if p-value is less than 0.05\n",
    "\n",
    "stationary = check_stationarity(yearly_data['Happiness Score'])"
   ]
  },
  {
   "cell_type": "markdown",
   "metadata": {},
   "source": [
    "The results of the Augmented Dickey-Fuller (ADF) test indicate that the time series is not stationary."
   ]
  },
  {
   "cell_type": "code",
   "execution_count": 16,
   "metadata": {},
   "outputs": [
    {
     "name": "stdout",
     "output_type": "stream",
     "text": [
      "ADF Statistic: -0.876918\n",
      "p-value: 0.795478\n",
      "Critical Values:\n",
      "   1%, -10.41719074074074\n",
      "Critical Values:\n",
      "   5%, -5.77838074074074\n",
      "Critical Values:\n",
      "   10%, -3.391681111111111\n"
     ]
    }
   ],
   "source": [
    "# Apply first-order differencing\n",
    "if not stationary:\n",
    "    yearly_data['Happiness Score Diff'] = yearly_data['Happiness Score'].diff().dropna()\n",
    "    stationary = check_stationarity(yearly_data['Happiness Score Diff'].dropna())"
   ]
  },
  {
   "cell_type": "markdown",
   "metadata": {},
   "source": [
    "The results of the Augmented Dickey-Fuller (ADF) test indicate that the time series is not stationary. "
   ]
  },
  {
   "cell_type": "code",
   "execution_count": 17,
   "metadata": {},
   "outputs": [
    {
     "name": "stdout",
     "output_type": "stream",
     "text": [
      "sample size is too short to use selected regression component\n"
     ]
    }
   ],
   "source": [
    "# Apply second-order differencing if first-order differencing is not sufficient\n",
    "try:\n",
    "    yearly_data['Happiness Score Diff2'] = yearly_data['Happiness Score Diff'].diff().dropna()\n",
    "    stationary = check_stationarity(yearly_data['Happiness Score Diff2'].dropna())\n",
    "except Exception as e:\n",
    "    print(e)"
   ]
  },
  {
   "cell_type": "code",
   "execution_count": 18,
   "metadata": {},
   "outputs": [
    {
     "name": "stdout",
     "output_type": "stream",
     "text": [
      "ADF Statistic: -0.940201\n",
      "p-value: 0.774446\n",
      "Critical Values:\n",
      "   1%, -7.355440625\n",
      "Critical Values:\n",
      "   5%, -4.474365000000001\n",
      "Critical Values:\n",
      "   10%, -3.1269325\n"
     ]
    }
   ],
   "source": [
    "# Apply log transformation and check stationarity\n",
    "yearly_data['Log_Happiness Score'] = np.log(yearly_data['Happiness Score'] + 1)\n",
    "stationary = check_stationarity(yearly_data['Log_Happiness Score'])"
   ]
  },
  {
   "cell_type": "markdown",
   "metadata": {},
   "source": [
    "The results of the Augmented Dickey-Fuller (ADF) test indicate that the time series is not stationary. "
   ]
  },
  {
   "cell_type": "code",
   "execution_count": 19,
   "metadata": {},
   "outputs": [
    {
     "name": "stdout",
     "output_type": "stream",
     "text": [
      "ADF Statistic: -0.879479\n",
      "p-value: 0.794655\n",
      "Critical Values:\n",
      "   1%, -10.41719074074074\n",
      "Critical Values:\n",
      "   5%, -5.77838074074074\n",
      "Critical Values:\n",
      "   10%, -3.391681111111111\n"
     ]
    }
   ],
   "source": [
    "# since not stationary, apply first-order differencing to the log-transformed data\n",
    "if not stationary:\n",
    "    yearly_data['Log_Happiness Score Diff'] = yearly_data['Log_Happiness Score'].diff().dropna()\n",
    "    stationary = check_stationarity(yearly_data['Log_Happiness Score Diff'].dropna())\n"
   ]
  },
  {
   "cell_type": "markdown",
   "metadata": {},
   "source": [
    "The results of the Augmented Dickey-Fuller (ADF) test indicate that the time series is not stationary. "
   ]
  },
  {
   "cell_type": "code",
   "execution_count": 20,
   "metadata": {},
   "outputs": [
    {
     "name": "stderr",
     "output_type": "stream",
     "text": [
      "/var/folders/tv/3gmlh89s67sdzdp_0t5_5zlm0000gn/T/ipykernel_65044/2868570136.py:9: FutureWarning: A value is trying to be set on a copy of a DataFrame or Series through chained assignment using an inplace method.\n",
      "The behavior will change in pandas 3.0. This inplace method will never work because the intermediate object on which we are setting values always behaves as a copy.\n",
      "\n",
      "For example, when doing 'df[col].method(value, inplace=True)', try using 'df.method({col: value}, inplace=True)' or df[col] = df[col].method(value) instead, to perform the operation inplace on the original object.\n",
      "\n",
      "\n",
      "  combined_data[target_variable].fillna(method='ffill', inplace=True)\n",
      "/var/folders/tv/3gmlh89s67sdzdp_0t5_5zlm0000gn/T/ipykernel_65044/2868570136.py:9: FutureWarning: Series.fillna with 'method' is deprecated and will raise in a future version. Use obj.ffill() or obj.bfill() instead.\n",
      "  combined_data[target_variable].fillna(method='ffill', inplace=True)\n",
      "/var/folders/tv/3gmlh89s67sdzdp_0t5_5zlm0000gn/T/ipykernel_65044/2868570136.py:10: FutureWarning: A value is trying to be set on a copy of a DataFrame or Series through chained assignment using an inplace method.\n",
      "The behavior will change in pandas 3.0. This inplace method will never work because the intermediate object on which we are setting values always behaves as a copy.\n",
      "\n",
      "For example, when doing 'df[col].method(value, inplace=True)', try using 'df.method({col: value}, inplace=True)' or df[col] = df[col].method(value) instead, to perform the operation inplace on the original object.\n",
      "\n",
      "\n",
      "  combined_data[target_variable].fillna(method='bfill', inplace=True)\n",
      "/var/folders/tv/3gmlh89s67sdzdp_0t5_5zlm0000gn/T/ipykernel_65044/2868570136.py:10: FutureWarning: Series.fillna with 'method' is deprecated and will raise in a future version. Use obj.ffill() or obj.bfill() instead.\n",
      "  combined_data[target_variable].fillna(method='bfill', inplace=True)\n"
     ]
    }
   ],
   "source": [
    "# Add the differenced series back to the combined data\n",
    "combined_data['Log_Happiness_Score'] = np.log(combined_data['Happiness Score'] + 1)\n",
    "combined_data['Happiness_Score_Diff'] = combined_data['Log_Happiness_Score'].diff()\n",
    "\n",
    "# Use differenced data for ARIMA if necessary\n",
    "target_variable = 'Happiness Score'\n",
    "\n",
    "# Handle NaNs in the target variable\n",
    "combined_data[target_variable].fillna(method='ffill', inplace=True)\n",
    "combined_data[target_variable].fillna(method='bfill', inplace=True)"
   ]
  },
  {
   "cell_type": "code",
   "execution_count": 21,
   "metadata": {},
   "outputs": [
    {
     "name": "stderr",
     "output_type": "stream",
     "text": [
      "/var/folders/tv/3gmlh89s67sdzdp_0t5_5zlm0000gn/T/ipykernel_65044/290990043.py:119: FutureWarning: Series.fillna with 'method' is deprecated and will raise in a future version. Use obj.ffill() or obj.bfill() instead.\n",
      "  train_y.fillna(method='ffill', inplace=True)\n",
      "/var/folders/tv/3gmlh89s67sdzdp_0t5_5zlm0000gn/T/ipykernel_65044/290990043.py:119: SettingWithCopyWarning: \n",
      "A value is trying to be set on a copy of a slice from a DataFrame\n",
      "\n",
      "See the caveats in the documentation: https://pandas.pydata.org/pandas-docs/stable/user_guide/indexing.html#returning-a-view-versus-a-copy\n",
      "  train_y.fillna(method='ffill', inplace=True)\n",
      "/var/folders/tv/3gmlh89s67sdzdp_0t5_5zlm0000gn/T/ipykernel_65044/290990043.py:120: FutureWarning: Series.fillna with 'method' is deprecated and will raise in a future version. Use obj.ffill() or obj.bfill() instead.\n",
      "  train_y.fillna(method='bfill', inplace=True)\n",
      "/var/folders/tv/3gmlh89s67sdzdp_0t5_5zlm0000gn/T/ipykernel_65044/290990043.py:120: SettingWithCopyWarning: \n",
      "A value is trying to be set on a copy of a slice from a DataFrame\n",
      "\n",
      "See the caveats in the documentation: https://pandas.pydata.org/pandas-docs/stable/user_guide/indexing.html#returning-a-view-versus-a-copy\n",
      "  train_y.fillna(method='bfill', inplace=True)\n",
      "/var/folders/tv/3gmlh89s67sdzdp_0t5_5zlm0000gn/T/ipykernel_65044/290990043.py:121: FutureWarning: Series.fillna with 'method' is deprecated and will raise in a future version. Use obj.ffill() or obj.bfill() instead.\n",
      "  test_y.fillna(method='ffill', inplace=True)\n",
      "/var/folders/tv/3gmlh89s67sdzdp_0t5_5zlm0000gn/T/ipykernel_65044/290990043.py:121: SettingWithCopyWarning: \n",
      "A value is trying to be set on a copy of a slice from a DataFrame\n",
      "\n",
      "See the caveats in the documentation: https://pandas.pydata.org/pandas-docs/stable/user_guide/indexing.html#returning-a-view-versus-a-copy\n",
      "  test_y.fillna(method='ffill', inplace=True)\n",
      "/var/folders/tv/3gmlh89s67sdzdp_0t5_5zlm0000gn/T/ipykernel_65044/290990043.py:122: FutureWarning: Series.fillna with 'method' is deprecated and will raise in a future version. Use obj.ffill() or obj.bfill() instead.\n",
      "  test_y.fillna(method='bfill', inplace=True)\n",
      "/var/folders/tv/3gmlh89s67sdzdp_0t5_5zlm0000gn/T/ipykernel_65044/290990043.py:122: SettingWithCopyWarning: \n",
      "A value is trying to be set on a copy of a slice from a DataFrame\n",
      "\n",
      "See the caveats in the documentation: https://pandas.pydata.org/pandas-docs/stable/user_guide/indexing.html#returning-a-view-versus-a-copy\n",
      "  test_y.fillna(method='bfill', inplace=True)\n",
      "/Users/jebin/Downloads/HappinesIndex/.venv/lib/python3.12/site-packages/statsmodels/base/model.py:607: ConvergenceWarning: Maximum Likelihood optimization failed to converge. Check mle_retvals\n",
      "  warnings.warn(\"Maximum Likelihood optimization failed to \"\n",
      "/Users/jebin/Downloads/HappinesIndex/.venv/lib/python3.12/site-packages/statsmodels/base/model.py:607: ConvergenceWarning: Maximum Likelihood optimization failed to converge. Check mle_retvals\n",
      "  warnings.warn(\"Maximum Likelihood optimization failed to \"\n",
      "/Users/jebin/Downloads/HappinesIndex/.venv/lib/python3.12/site-packages/statsmodels/base/model.py:607: ConvergenceWarning: Maximum Likelihood optimization failed to converge. Check mle_retvals\n",
      "  warnings.warn(\"Maximum Likelihood optimization failed to \"\n",
      "/Users/jebin/Downloads/HappinesIndex/.venv/lib/python3.12/site-packages/statsmodels/base/model.py:607: ConvergenceWarning: Maximum Likelihood optimization failed to converge. Check mle_retvals\n",
      "  warnings.warn(\"Maximum Likelihood optimization failed to \"\n",
      "/var/folders/tv/3gmlh89s67sdzdp_0t5_5zlm0000gn/T/ipykernel_65044/290990043.py:119: FutureWarning: Series.fillna with 'method' is deprecated and will raise in a future version. Use obj.ffill() or obj.bfill() instead.\n",
      "  train_y.fillna(method='ffill', inplace=True)\n",
      "/var/folders/tv/3gmlh89s67sdzdp_0t5_5zlm0000gn/T/ipykernel_65044/290990043.py:119: SettingWithCopyWarning: \n",
      "A value is trying to be set on a copy of a slice from a DataFrame\n",
      "\n",
      "See the caveats in the documentation: https://pandas.pydata.org/pandas-docs/stable/user_guide/indexing.html#returning-a-view-versus-a-copy\n",
      "  train_y.fillna(method='ffill', inplace=True)\n",
      "/var/folders/tv/3gmlh89s67sdzdp_0t5_5zlm0000gn/T/ipykernel_65044/290990043.py:120: FutureWarning: Series.fillna with 'method' is deprecated and will raise in a future version. Use obj.ffill() or obj.bfill() instead.\n",
      "  train_y.fillna(method='bfill', inplace=True)\n",
      "/var/folders/tv/3gmlh89s67sdzdp_0t5_5zlm0000gn/T/ipykernel_65044/290990043.py:120: SettingWithCopyWarning: \n",
      "A value is trying to be set on a copy of a slice from a DataFrame\n",
      "\n",
      "See the caveats in the documentation: https://pandas.pydata.org/pandas-docs/stable/user_guide/indexing.html#returning-a-view-versus-a-copy\n",
      "  train_y.fillna(method='bfill', inplace=True)\n",
      "/var/folders/tv/3gmlh89s67sdzdp_0t5_5zlm0000gn/T/ipykernel_65044/290990043.py:121: FutureWarning: Series.fillna with 'method' is deprecated and will raise in a future version. Use obj.ffill() or obj.bfill() instead.\n",
      "  test_y.fillna(method='ffill', inplace=True)\n",
      "/var/folders/tv/3gmlh89s67sdzdp_0t5_5zlm0000gn/T/ipykernel_65044/290990043.py:121: SettingWithCopyWarning: \n",
      "A value is trying to be set on a copy of a slice from a DataFrame\n",
      "\n",
      "See the caveats in the documentation: https://pandas.pydata.org/pandas-docs/stable/user_guide/indexing.html#returning-a-view-versus-a-copy\n",
      "  test_y.fillna(method='ffill', inplace=True)\n",
      "/var/folders/tv/3gmlh89s67sdzdp_0t5_5zlm0000gn/T/ipykernel_65044/290990043.py:122: FutureWarning: Series.fillna with 'method' is deprecated and will raise in a future version. Use obj.ffill() or obj.bfill() instead.\n",
      "  test_y.fillna(method='bfill', inplace=True)\n",
      "/var/folders/tv/3gmlh89s67sdzdp_0t5_5zlm0000gn/T/ipykernel_65044/290990043.py:122: SettingWithCopyWarning: \n",
      "A value is trying to be set on a copy of a slice from a DataFrame\n",
      "\n",
      "See the caveats in the documentation: https://pandas.pydata.org/pandas-docs/stable/user_guide/indexing.html#returning-a-view-versus-a-copy\n",
      "  test_y.fillna(method='bfill', inplace=True)\n",
      "/Users/jebin/Downloads/HappinesIndex/.venv/lib/python3.12/site-packages/statsmodels/base/model.py:607: ConvergenceWarning: Maximum Likelihood optimization failed to converge. Check mle_retvals\n",
      "  warnings.warn(\"Maximum Likelihood optimization failed to \"\n",
      "/Users/jebin/Downloads/HappinesIndex/.venv/lib/python3.12/site-packages/statsmodels/base/model.py:607: ConvergenceWarning: Maximum Likelihood optimization failed to converge. Check mle_retvals\n",
      "  warnings.warn(\"Maximum Likelihood optimization failed to \"\n",
      "/var/folders/tv/3gmlh89s67sdzdp_0t5_5zlm0000gn/T/ipykernel_65044/290990043.py:119: FutureWarning: Series.fillna with 'method' is deprecated and will raise in a future version. Use obj.ffill() or obj.bfill() instead.\n",
      "  train_y.fillna(method='ffill', inplace=True)\n",
      "/var/folders/tv/3gmlh89s67sdzdp_0t5_5zlm0000gn/T/ipykernel_65044/290990043.py:119: SettingWithCopyWarning: \n",
      "A value is trying to be set on a copy of a slice from a DataFrame\n",
      "\n",
      "See the caveats in the documentation: https://pandas.pydata.org/pandas-docs/stable/user_guide/indexing.html#returning-a-view-versus-a-copy\n",
      "  train_y.fillna(method='ffill', inplace=True)\n",
      "/var/folders/tv/3gmlh89s67sdzdp_0t5_5zlm0000gn/T/ipykernel_65044/290990043.py:120: FutureWarning: Series.fillna with 'method' is deprecated and will raise in a future version. Use obj.ffill() or obj.bfill() instead.\n",
      "  train_y.fillna(method='bfill', inplace=True)\n",
      "/var/folders/tv/3gmlh89s67sdzdp_0t5_5zlm0000gn/T/ipykernel_65044/290990043.py:120: SettingWithCopyWarning: \n",
      "A value is trying to be set on a copy of a slice from a DataFrame\n",
      "\n",
      "See the caveats in the documentation: https://pandas.pydata.org/pandas-docs/stable/user_guide/indexing.html#returning-a-view-versus-a-copy\n",
      "  train_y.fillna(method='bfill', inplace=True)\n",
      "/var/folders/tv/3gmlh89s67sdzdp_0t5_5zlm0000gn/T/ipykernel_65044/290990043.py:121: FutureWarning: Series.fillna with 'method' is deprecated and will raise in a future version. Use obj.ffill() or obj.bfill() instead.\n",
      "  test_y.fillna(method='ffill', inplace=True)\n",
      "/var/folders/tv/3gmlh89s67sdzdp_0t5_5zlm0000gn/T/ipykernel_65044/290990043.py:121: SettingWithCopyWarning: \n",
      "A value is trying to be set on a copy of a slice from a DataFrame\n",
      "\n",
      "See the caveats in the documentation: https://pandas.pydata.org/pandas-docs/stable/user_guide/indexing.html#returning-a-view-versus-a-copy\n",
      "  test_y.fillna(method='ffill', inplace=True)\n",
      "/var/folders/tv/3gmlh89s67sdzdp_0t5_5zlm0000gn/T/ipykernel_65044/290990043.py:122: FutureWarning: Series.fillna with 'method' is deprecated and will raise in a future version. Use obj.ffill() or obj.bfill() instead.\n",
      "  test_y.fillna(method='bfill', inplace=True)\n",
      "/var/folders/tv/3gmlh89s67sdzdp_0t5_5zlm0000gn/T/ipykernel_65044/290990043.py:122: SettingWithCopyWarning: \n",
      "A value is trying to be set on a copy of a slice from a DataFrame\n",
      "\n",
      "See the caveats in the documentation: https://pandas.pydata.org/pandas-docs/stable/user_guide/indexing.html#returning-a-view-versus-a-copy\n",
      "  test_y.fillna(method='bfill', inplace=True)\n",
      "/Users/jebin/Downloads/HappinesIndex/.venv/lib/python3.12/site-packages/statsmodels/base/model.py:607: ConvergenceWarning: Maximum Likelihood optimization failed to converge. Check mle_retvals\n",
      "  warnings.warn(\"Maximum Likelihood optimization failed to \"\n",
      "/Users/jebin/Downloads/HappinesIndex/.venv/lib/python3.12/site-packages/statsmodels/base/model.py:607: ConvergenceWarning: Maximum Likelihood optimization failed to converge. Check mle_retvals\n",
      "  warnings.warn(\"Maximum Likelihood optimization failed to \"\n",
      "/Users/jebin/Downloads/HappinesIndex/.venv/lib/python3.12/site-packages/statsmodels/base/model.py:607: ConvergenceWarning: Maximum Likelihood optimization failed to converge. Check mle_retvals\n",
      "  warnings.warn(\"Maximum Likelihood optimization failed to \"\n",
      "/Users/jebin/Downloads/HappinesIndex/.venv/lib/python3.12/site-packages/statsmodels/base/model.py:607: ConvergenceWarning: Maximum Likelihood optimization failed to converge. Check mle_retvals\n",
      "  warnings.warn(\"Maximum Likelihood optimization failed to \"\n"
     ]
    }
   ],
   "source": [
    "# Function to evaluate a model\n",
    "def evaluate_model(model_name,model, X_train, y_train, X_test, y_test):\n",
    "    model.fit(X_train, y_train)\n",
    "    #save the model to disk\n",
    "    filename = model_name + '.pkl'\n",
    "    pickle.dump(model, open(filename, 'wb'))\n",
    "    y_train_pred = model.predict(X_train)\n",
    "    y_test_pred = model.predict(X_test)\n",
    "    train_mse = mean_squared_error(y_train, y_train_pred)\n",
    "    test_mse = mean_squared_error(y_test, y_test_pred)\n",
    "    train_mae = mean_absolute_error(y_train, y_train_pred)\n",
    "    test_mae = mean_absolute_error(y_test, y_test_pred)\n",
    "    train_r2 = r2_score(y_train, y_train_pred)\n",
    "    test_r2 = r2_score(y_test, y_test_pred)\n",
    "    return train_mse, test_mse, train_mae, test_mae, train_r2, test_r2\n",
    "\n",
    "# Function to evaluate ARIMA model\n",
    "def evaluate_arima(train, test):\n",
    "    history = list(train)\n",
    "    predictions = []\n",
    "    for t in range(len(test)):\n",
    "        model = ARIMA(history, order=(1,1,1))\n",
    "        model_fit = model.fit()\n",
    "        yhat = model_fit.forecast()[0]\n",
    "        predictions.append(yhat)\n",
    "        history.append(test[t])\n",
    "    train_mse = mean_squared_error(train, history[:-len(test)])\n",
    "    test_mse = mean_squared_error(test, predictions)\n",
    "    train_mae = mean_absolute_error(train, history[:-len(test)])\n",
    "    test_mae = mean_absolute_error(test, predictions)\n",
    "    train_r2 = r2_score(train, history[:-len(test)])\n",
    "    test_r2 = r2_score(test, predictions)\n",
    "    return train_mse, test_mse, train_mae, test_mae, train_r2, test_r2\n",
    "\n",
    "# Create a TimeSeriesSplit object with 3 splits\n",
    "tscv = TimeSeriesSplit(n_splits=3)\n",
    "\n",
    "# Initialize lists to store results\n",
    "results = {\n",
    "    'Model': [],\n",
    "    'Split': [],\n",
    "    'Train MSE': [],\n",
    "    'Test MSE': [],\n",
    "    'Train MAE': [],\n",
    "    'Test MAE': [],\n",
    "    'Train R2': [],\n",
    "    'Test R2': []\n",
    "}\n",
    "\n",
    "# Iterate through splits and evaluate models\n",
    "split_num = 1\n",
    "for train_index, test_index in tscv.split(combined_data):\n",
    "    train_data, test_data = combined_data.iloc[train_index], combined_data.iloc[test_index]\n",
    "    \n",
    "    # Select features, excluding the original values and only using log-transformed and interaction features\n",
    "    feature_cols = [\n",
    "        'GDP_Social_Support', 'Health_Freedom',\n",
    "        'Log_GDP_per_Capita', 'Log_Healthy_life_expectancy',\n",
    "        'country_encoded'\n",
    "    ]\n",
    "    X_train = train_data[feature_cols]\n",
    "    y_train = train_data[target_variable]\n",
    "    X_test = test_data[feature_cols]\n",
    "    y_test = test_data[target_variable]\n",
    "    \n",
    "    # Feature scaling\n",
    "    scaler = StandardScaler()\n",
    "    X_train = scaler.fit_transform(X_train)\n",
    "    X_test = scaler.transform(X_test)\n",
    "    \n",
    "    # Ensure consistency between X_train and y_train by dropping corresponding NaNs\n",
    "    X_train = X_train[~np.isnan(y_train)]\n",
    "    y_train = y_train[~np.isnan(y_train)]\n",
    "    X_test = X_test[~np.isnan(y_test)]\n",
    "    y_test = y_test[~np.isnan(y_test)]\n",
    "    \n",
    "    # Evaluate Linear Regression\n",
    "    model_lr = LinearRegression()\n",
    "    model_name = 'Linear_Regression'\n",
    "    train_mse_lr, test_mse_lr, train_mae_lr, test_mae_lr, train_r2_lr, test_r2_lr = evaluate_model(model_name,model_lr, X_train, y_train, X_test, y_test)\n",
    "    results['Model'].append('Linear Regression')\n",
    "    results['Split'].append(split_num)\n",
    "    results['Train MSE'].append(train_mse_lr)\n",
    "    results['Test MSE'].append(test_mse_lr)\n",
    "    results['Train MAE'].append(train_mae_lr)\n",
    "    results['Test MAE'].append(test_mae_lr)\n",
    "    results['Train R2'].append(train_r2_lr)\n",
    "    results['Test R2'].append(test_r2_lr)\n",
    "    \n",
    "    # Evaluate SVM\n",
    "    model_svm = SVR()\n",
    "    model_name = 'SVM'\n",
    "    train_mse_svm, test_mse_svm, train_mae_svm, test_mae_svm, train_r2_svm, test_r2_svm = evaluate_model(model_name,model_svm, X_train, y_train, X_test, y_test)\n",
    "    results['Model'].append('SVM')\n",
    "    results['Split'].append(split_num)\n",
    "    results['Train MSE'].append(train_mse_svm)\n",
    "    results['Test MSE'].append(test_mse_svm)\n",
    "    results['Train MAE'].append(train_mae_svm)\n",
    "    results['Test MAE'].append(test_mae_svm)\n",
    "    results['Train R2'].append(train_r2_svm)\n",
    "    results['Test R2'].append(test_r2_svm)\n",
    "    \n",
    "    # Evaluate Random Forest\n",
    "    model_rf = RandomForestRegressor(random_state=42)\n",
    "    model_name = 'Random_Forest'\n",
    "    train_mse_rf, test_mse_rf, train_mae_rf, test_mae_rf, train_r2_rf, test_r2_rf = evaluate_model(model_name,model_rf, X_train, y_train, X_test, y_test)\n",
    "    results['Model'].append('Random Forest')\n",
    "    results['Split'].append(split_num)\n",
    "    results['Train MSE'].append(train_mse_rf)\n",
    "    results['Test MSE'].append(test_mse_rf)\n",
    "    results['Train MAE'].append(train_mae_rf)\n",
    "    results['Test MAE'].append(test_mae_rf)\n",
    "    results['Train R2'].append(train_r2_rf)\n",
    "    results['Test R2'].append(test_r2_rf)\n",
    "\n",
    "    # Evaluate ARIMA\n",
    "    train_y = train_data[target_variable]\n",
    "    test_y = test_data[target_variable]\n",
    "    train_y.fillna(method='ffill', inplace=True)\n",
    "    train_y.fillna(method='bfill', inplace=True)\n",
    "    test_y.fillna(method='ffill', inplace=True)\n",
    "    test_y.fillna(method='bfill', inplace=True)\n",
    "    train_mse_arima, test_mse_arima, train_mae_arima, test_mae_arima, train_r2_arima, test_r2_arima = evaluate_arima(train_y.values, test_y.values)\n",
    "    results['Model'].append('ARIMA')\n",
    "    results['Split'].append(split_num)\n",
    "    results['Train MSE'].append(train_mse_arima)\n",
    "    results['Test MSE'].append(test_mse_arima)\n",
    "    results['Train MAE'].append(train_mae_arima)\n",
    "    results['Test MAE'].append(test_mae_arima)\n",
    "    results['Train R2'].append(train_r2_arima)\n",
    "    results['Test R2'].append(test_r2_arima)\n",
    "    \n",
    "    split_num += 1\n",
    "\n"
   ]
  },
  {
   "cell_type": "code",
   "execution_count": 22,
   "metadata": {},
   "outputs": [
    {
     "data": {
      "text/html": [
       "<div>\n",
       "<style scoped>\n",
       "    .dataframe tbody tr th:only-of-type {\n",
       "        vertical-align: middle;\n",
       "    }\n",
       "\n",
       "    .dataframe tbody tr th {\n",
       "        vertical-align: top;\n",
       "    }\n",
       "\n",
       "    .dataframe thead th {\n",
       "        text-align: right;\n",
       "    }\n",
       "</style>\n",
       "<table border=\"1\" class=\"dataframe\">\n",
       "  <thead>\n",
       "    <tr style=\"text-align: right;\">\n",
       "      <th></th>\n",
       "      <th>Model</th>\n",
       "      <th>Split</th>\n",
       "      <th>Train MSE</th>\n",
       "      <th>Test MSE</th>\n",
       "      <th>Train MAE</th>\n",
       "      <th>Test MAE</th>\n",
       "      <th>Train R2</th>\n",
       "      <th>Test R2</th>\n",
       "    </tr>\n",
       "  </thead>\n",
       "  <tbody>\n",
       "    <tr>\n",
       "      <th>0</th>\n",
       "      <td>Linear Regression</td>\n",
       "      <td>1</td>\n",
       "      <td>0.271253</td>\n",
       "      <td>0.463443</td>\n",
       "      <td>0.402316</td>\n",
       "      <td>0.568714</td>\n",
       "      <td>0.754306</td>\n",
       "      <td>0.673105</td>\n",
       "    </tr>\n",
       "    <tr>\n",
       "      <th>1</th>\n",
       "      <td>SVM</td>\n",
       "      <td>1</td>\n",
       "      <td>0.223772</td>\n",
       "      <td>0.461507</td>\n",
       "      <td>0.342946</td>\n",
       "      <td>0.560601</td>\n",
       "      <td>0.797313</td>\n",
       "      <td>0.674471</td>\n",
       "    </tr>\n",
       "    <tr>\n",
       "      <th>2</th>\n",
       "      <td>Random Forest</td>\n",
       "      <td>1</td>\n",
       "      <td>0.044179</td>\n",
       "      <td>0.502331</td>\n",
       "      <td>0.157992</td>\n",
       "      <td>0.572276</td>\n",
       "      <td>0.959984</td>\n",
       "      <td>0.645675</td>\n",
       "    </tr>\n",
       "    <tr>\n",
       "      <th>3</th>\n",
       "      <td>ARIMA</td>\n",
       "      <td>1</td>\n",
       "      <td>0.000000</td>\n",
       "      <td>0.164917</td>\n",
       "      <td>0.000000</td>\n",
       "      <td>0.215575</td>\n",
       "      <td>1.000000</td>\n",
       "      <td>0.883674</td>\n",
       "    </tr>\n",
       "    <tr>\n",
       "      <th>4</th>\n",
       "      <td>Linear Regression</td>\n",
       "      <td>2</td>\n",
       "      <td>0.336928</td>\n",
       "      <td>0.302084</td>\n",
       "      <td>0.452938</td>\n",
       "      <td>0.418238</td>\n",
       "      <td>0.734181</td>\n",
       "      <td>0.777611</td>\n",
       "    </tr>\n",
       "    <tr>\n",
       "      <th>5</th>\n",
       "      <td>SVM</td>\n",
       "      <td>2</td>\n",
       "      <td>0.245295</td>\n",
       "      <td>0.396280</td>\n",
       "      <td>0.366073</td>\n",
       "      <td>0.518282</td>\n",
       "      <td>0.806475</td>\n",
       "      <td>0.708265</td>\n",
       "    </tr>\n",
       "    <tr>\n",
       "      <th>6</th>\n",
       "      <td>Random Forest</td>\n",
       "      <td>2</td>\n",
       "      <td>0.039837</td>\n",
       "      <td>0.216191</td>\n",
       "      <td>0.151293</td>\n",
       "      <td>0.358673</td>\n",
       "      <td>0.968571</td>\n",
       "      <td>0.840844</td>\n",
       "    </tr>\n",
       "    <tr>\n",
       "      <th>7</th>\n",
       "      <td>ARIMA</td>\n",
       "      <td>2</td>\n",
       "      <td>0.000000</td>\n",
       "      <td>0.180421</td>\n",
       "      <td>0.000000</td>\n",
       "      <td>0.234825</td>\n",
       "      <td>1.000000</td>\n",
       "      <td>0.867177</td>\n",
       "    </tr>\n",
       "    <tr>\n",
       "      <th>8</th>\n",
       "      <td>Linear Regression</td>\n",
       "      <td>3</td>\n",
       "      <td>0.317992</td>\n",
       "      <td>0.309989</td>\n",
       "      <td>0.439343</td>\n",
       "      <td>0.418500</td>\n",
       "      <td>0.763253</td>\n",
       "      <td>0.698998</td>\n",
       "    </tr>\n",
       "    <tr>\n",
       "      <th>9</th>\n",
       "      <td>SVM</td>\n",
       "      <td>3</td>\n",
       "      <td>0.237960</td>\n",
       "      <td>0.283506</td>\n",
       "      <td>0.365823</td>\n",
       "      <td>0.427007</td>\n",
       "      <td>0.822838</td>\n",
       "      <td>0.724712</td>\n",
       "    </tr>\n",
       "    <tr>\n",
       "      <th>10</th>\n",
       "      <td>Random Forest</td>\n",
       "      <td>3</td>\n",
       "      <td>0.032233</td>\n",
       "      <td>0.272840</td>\n",
       "      <td>0.136331</td>\n",
       "      <td>0.420401</td>\n",
       "      <td>0.976002</td>\n",
       "      <td>0.735069</td>\n",
       "    </tr>\n",
       "    <tr>\n",
       "      <th>11</th>\n",
       "      <td>ARIMA</td>\n",
       "      <td>3</td>\n",
       "      <td>0.000000</td>\n",
       "      <td>0.303540</td>\n",
       "      <td>0.000000</td>\n",
       "      <td>0.232501</td>\n",
       "      <td>1.000000</td>\n",
       "      <td>0.705260</td>\n",
       "    </tr>\n",
       "  </tbody>\n",
       "</table>\n",
       "</div>"
      ],
      "text/plain": [
       "                Model  Split  Train MSE  Test MSE  Train MAE  Test MAE  \\\n",
       "0   Linear Regression      1   0.271253  0.463443   0.402316  0.568714   \n",
       "1                 SVM      1   0.223772  0.461507   0.342946  0.560601   \n",
       "2       Random Forest      1   0.044179  0.502331   0.157992  0.572276   \n",
       "3               ARIMA      1   0.000000  0.164917   0.000000  0.215575   \n",
       "4   Linear Regression      2   0.336928  0.302084   0.452938  0.418238   \n",
       "5                 SVM      2   0.245295  0.396280   0.366073  0.518282   \n",
       "6       Random Forest      2   0.039837  0.216191   0.151293  0.358673   \n",
       "7               ARIMA      2   0.000000  0.180421   0.000000  0.234825   \n",
       "8   Linear Regression      3   0.317992  0.309989   0.439343  0.418500   \n",
       "9                 SVM      3   0.237960  0.283506   0.365823  0.427007   \n",
       "10      Random Forest      3   0.032233  0.272840   0.136331  0.420401   \n",
       "11              ARIMA      3   0.000000  0.303540   0.000000  0.232501   \n",
       "\n",
       "    Train R2   Test R2  \n",
       "0   0.754306  0.673105  \n",
       "1   0.797313  0.674471  \n",
       "2   0.959984  0.645675  \n",
       "3   1.000000  0.883674  \n",
       "4   0.734181  0.777611  \n",
       "5   0.806475  0.708265  \n",
       "6   0.968571  0.840844  \n",
       "7   1.000000  0.867177  \n",
       "8   0.763253  0.698998  \n",
       "9   0.822838  0.724712  \n",
       "10  0.976002  0.735069  \n",
       "11  1.000000  0.705260  "
      ]
     },
     "execution_count": 22,
     "metadata": {},
     "output_type": "execute_result"
    }
   ],
   "source": [
    "# Convert results to DataFrame\n",
    "results_df = pd.DataFrame(results)\n",
    "results_df"
   ]
  },
  {
   "cell_type": "code",
   "execution_count": 23,
   "metadata": {},
   "outputs": [
    {
     "name": "stdout",
     "output_type": "stream",
     "text": [
      "Best model based on Test MSE:\n",
      "\n"
     ]
    },
    {
     "data": {
      "text/html": [
       "<div>\n",
       "<style scoped>\n",
       "    .dataframe tbody tr th:only-of-type {\n",
       "        vertical-align: middle;\n",
       "    }\n",
       "\n",
       "    .dataframe tbody tr th {\n",
       "        vertical-align: top;\n",
       "    }\n",
       "\n",
       "    .dataframe thead th {\n",
       "        text-align: right;\n",
       "    }\n",
       "</style>\n",
       "<table border=\"1\" class=\"dataframe\">\n",
       "  <thead>\n",
       "    <tr style=\"text-align: right;\">\n",
       "      <th></th>\n",
       "      <th>Model</th>\n",
       "      <th>Split</th>\n",
       "      <th>Train MSE</th>\n",
       "      <th>Test MSE</th>\n",
       "      <th>Train MAE</th>\n",
       "      <th>Test MAE</th>\n",
       "      <th>Train R2</th>\n",
       "      <th>Test R2</th>\n",
       "    </tr>\n",
       "  </thead>\n",
       "  <tbody>\n",
       "    <tr>\n",
       "      <th>3</th>\n",
       "      <td>ARIMA</td>\n",
       "      <td>1</td>\n",
       "      <td>0.000000</td>\n",
       "      <td>0.164917</td>\n",
       "      <td>0.000000</td>\n",
       "      <td>0.215575</td>\n",
       "      <td>1.000000</td>\n",
       "      <td>0.883674</td>\n",
       "    </tr>\n",
       "    <tr>\n",
       "      <th>4</th>\n",
       "      <td>Linear Regression</td>\n",
       "      <td>2</td>\n",
       "      <td>0.336928</td>\n",
       "      <td>0.302084</td>\n",
       "      <td>0.452938</td>\n",
       "      <td>0.418238</td>\n",
       "      <td>0.734181</td>\n",
       "      <td>0.777611</td>\n",
       "    </tr>\n",
       "    <tr>\n",
       "      <th>6</th>\n",
       "      <td>Random Forest</td>\n",
       "      <td>2</td>\n",
       "      <td>0.039837</td>\n",
       "      <td>0.216191</td>\n",
       "      <td>0.151293</td>\n",
       "      <td>0.358673</td>\n",
       "      <td>0.968571</td>\n",
       "      <td>0.840844</td>\n",
       "    </tr>\n",
       "    <tr>\n",
       "      <th>9</th>\n",
       "      <td>SVM</td>\n",
       "      <td>3</td>\n",
       "      <td>0.237960</td>\n",
       "      <td>0.283506</td>\n",
       "      <td>0.365823</td>\n",
       "      <td>0.427007</td>\n",
       "      <td>0.822838</td>\n",
       "      <td>0.724712</td>\n",
       "    </tr>\n",
       "  </tbody>\n",
       "</table>\n",
       "</div>"
      ],
      "text/plain": [
       "               Model  Split  Train MSE  Test MSE  Train MAE  Test MAE  \\\n",
       "3              ARIMA      1   0.000000  0.164917   0.000000  0.215575   \n",
       "4  Linear Regression      2   0.336928  0.302084   0.452938  0.418238   \n",
       "6      Random Forest      2   0.039837  0.216191   0.151293  0.358673   \n",
       "9                SVM      3   0.237960  0.283506   0.365823  0.427007   \n",
       "\n",
       "   Train R2   Test R2  \n",
       "3  1.000000  0.883674  \n",
       "4  0.734181  0.777611  \n",
       "6  0.968571  0.840844  \n",
       "9  0.822838  0.724712  "
      ]
     },
     "execution_count": 23,
     "metadata": {},
     "output_type": "execute_result"
    }
   ],
   "source": [
    "# Determine the best model based on test metrics\n",
    "best_model = results_df.loc[results_df.groupby('Model')['Test MSE'].idxmin()]\n",
    "print(\"Best model based on Test MSE:\\n\")\n",
    "best_model"
   ]
  },
  {
   "cell_type": "markdown",
   "metadata": {},
   "source": [
    "\t1.\tARIMA:\n",
    "\t•\tTraining Performance: Excellent (Train MSE = 0, Train R² = 1).\n",
    "\t•\tTest Performance: Very good (Test MSE = 0.164917, Test R² = 0.883674).\n",
    "\t•\tAnalysis: This model shows perfect training performance and very strong test performance, indicating a well-fitted model that generalizes well.\n",
    "\t2.\tLinear Regression:\n",
    "\t•\tTraining and Test Performance: Consistent but relatively poorer compared to other models (Train R² = 0.734181, Test R² = 0.777611).\n",
    "\t•\tAnalysis: This model has a lower fit and predictive power, making it less suitable for accurate predictions in this context.\n",
    "\t3.\tRandom Forest:\n",
    "\t•\tTraining Performance: Very good (Train MSE = 0.039837, Train R² = 0.968571).\n",
    "\t•\tTest Performance: Good (Test MSE = 0.216191, Test R² = 0.840844).\n",
    "\t•\tAnalysis: This model shows strong training performance and good test performance, indicating a reliable fit with minimal overfitting.\n",
    "\t4.\tSVM:\n",
    "\t•\tTraining and Test Performance: Moderate (Train R² = 0.822838, Test R² = 0.724712).\n",
    "\t•\tAnalysis: This model performs moderately well but is outperformed by ARIMA and Random Forest.\n"
   ]
  },
  {
   "cell_type": "markdown",
   "metadata": {},
   "source": [
    "# Interpretations"
   ]
  },
  {
   "cell_type": "markdown",
   "metadata": {},
   "source": [
    "-ARIMA shows the best training performance (Train MSE, Train MAE, and Train R²) but has only modest performance on the test data (Test MSE, Test MAE, and Test R²)\n",
    "\n",
    "-Linear Regression has consistent performance between training and test sets, but both are poor, indicating a low fit and predictive power.\n",
    "\t\n",
    "-Random Forest has a good fit on the training data (high Train R²) but has (negative Test R²), indicating overfitting but better than other models.\n",
    "\t\n",
    "-SVM has poor performance on both training and test data, with the worst performance on the test data (negative Test R²)."
   ]
  },
  {
   "cell_type": "markdown",
   "metadata": {},
   "source": [
    "Random Forest is recommended as the machine learning model for prediction, with the condition that steps are taken to mitigate overfitting. This model has shown the potential for capturing complex patterns in the data, and with proper tuning and validation, its performance on the test data can be improved."
   ]
  },
  {
   "cell_type": "markdown",
   "metadata": {},
   "source": []
  },
  {
   "cell_type": "markdown",
   "metadata": {},
   "source": [
    "# Model Implementaton"
   ]
  },
  {
   "cell_type": "code",
   "execution_count": 24,
   "metadata": {},
   "outputs": [],
   "source": [
    "#load the model Random_Forest.pkl\n",
    "loaded_model = pickle.load(open('Random_Forest.pkl', 'rb'))\n",
    "\n"
   ]
  },
  {
   "cell_type": "code",
   "execution_count": null,
   "metadata": {},
   "outputs": [],
   "source": [
    "#get two inputs one to select the year and the other to select the country \n",
    "year = int(input(\"Enter the year: \"))\n",
    "country = str(input(\"Enter the country: \"))\n",
    "\n",
    "\n",
    "#input these values 'Country', 'Year', 'Happiness Score', 'GDP per Capita', 'Social Support', 'Healthy life expectancy', 'Freedom to make life choices', 'Generosity', 'Perceptions of corruption'\n",
    "\n",
    "GDP_per_Capita = float(input(\"Enter the GDP per Capita: \"))\n",
    "Social_Support = float(input(\"Enter the Social Support: \"))\n",
    "Healthy_life_expectancy = float(input(\"Enter the Healthy life expectancy: \"))\n",
    "Freedom_to_make_life_choices = float(input(\"Enter the Freedom to make life choices: \"))\n",
    "Generosity = float(input(\"Enter the Generosity: \"))\n",
    "Perceptions_of_corruption = float(input(\"Enter the Perceptions of corruption: \"))\n",
    "country_encoded = label_encoder.transform([country])[0]\n",
    "GDP_Social_Support = GDP_per_Capita * Social_Support\n",
    "Health_Freedom = Healthy_life_expectancy * Freedom_to_make_life_choices\n",
    "Log_GDP_per_Capita = np.log(GDP_per_Capita + 1)\n",
    "Log_Healthy_life_expectancy = np.log(Healthy_life_expectancy + 1)\n",
    "\n",
    "# Create a DataFrame with the input values (all features)\n",
    "input_data = pd.DataFrame({\n",
    "    \"Country\": [country],\n",
    "    \"Year\": [year],\n",
    "    \"GDP per Capita\": [GDP_per_Capita],\n",
    "    \"Social Support\": [Social_Support],\n",
    "    \"Healthy life expectancy\": [Healthy_life_expectancy],\n",
    "    \"Freedom to make life choices\": [Freedom_to_make_life_choices],\n",
    "    \"Generosity\": [Generosity],\n",
    "    \"Perceptions of corruption\": [Perceptions_of_corruption],\n",
    "    'GDP_Social_Support': [GDP_Social_Support],\n",
    "    'Health_Freedom': [Health_Freedom],\n",
    "    'Log_GDP_per_Capita': [Log_GDP_per_Capita],\n",
    "    'Log_Healthy_life_expectancy': [Log_Healthy_life_expectancy],\n",
    "    'country_encoded': [country_encoded]\n",
    "})\n"
   ]
  },
  {
   "cell_type": "code",
   "execution_count": 26,
   "metadata": {},
   "outputs": [],
   "source": []
  },
  {
   "cell_type": "code",
   "execution_count": 27,
   "metadata": {},
   "outputs": [],
   "source": [
    "#load the input data\n",
    "input_data = pd.read_csv('input_data.csv')"
   ]
  },
  {
   "cell_type": "code",
   "execution_count": 28,
   "metadata": {},
   "outputs": [
    {
     "name": "stderr",
     "output_type": "stream",
     "text": [
      "/Users/jebin/Downloads/HappinesIndex/.venv/lib/python3.12/site-packages/sklearn/base.py:486: UserWarning: X has feature names, but RandomForestRegressor was fitted without feature names\n",
      "  warnings.warn(\n"
     ]
    }
   ],
   "source": [
    "#use  'GDP_Social_Support', 'Health_Freedom','Log_GDP_per_Capita', 'Log_Healthy_life_expectancy', 'country_encoded' as features\n",
    "features = [\n",
    "    'GDP_Social_Support', 'Health_Freedom',\n",
    "    'Log_GDP_per_Capita', 'Log_Healthy_life_expectancy',\n",
    "    'country_encoded'\n",
    "]\n",
    "\n",
    "#use the features to predict the happiness score\n",
    "prediction = loaded_model.predict(input_data[features])"
   ]
  },
  {
   "cell_type": "code",
   "execution_count": 29,
   "metadata": {},
   "outputs": [
    {
     "name": "stdout",
     "output_type": "stream",
     "text": [
      "6.548640007324219\n"
     ]
    }
   ],
   "source": [
    "print(prediction[0])"
   ]
  },
  {
   "cell_type": "code",
   "execution_count": null,
   "metadata": {},
   "outputs": [],
   "source": []
  }
 ],
 "metadata": {
  "kernelspec": {
   "display_name": ".venv",
   "language": "python",
   "name": "python3"
  },
  "language_info": {
   "codemirror_mode": {
    "name": "ipython",
    "version": 3
   },
   "file_extension": ".py",
   "mimetype": "text/x-python",
   "name": "python",
   "nbconvert_exporter": "python",
   "pygments_lexer": "ipython3",
   "version": "3.12.3"
  }
 },
 "nbformat": 4,
 "nbformat_minor": 2
}
